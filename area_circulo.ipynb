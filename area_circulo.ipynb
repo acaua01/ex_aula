{
 "cells": [
  {
   "cell_type": "markdown",
   "id": "535f4a9b",
   "metadata": {},
   "source": [
    "# Ex 12\n",
    "12. calcule a ´area de um c´ırculo e o comprimento de sua circunferˆencia cujo raio ser´a informado\n",
    "pelo usu´ario."
   ]
  },
  {
   "cell_type": "code",
   "execution_count": 6,
   "id": "d796ff0b",
   "metadata": {},
   "outputs": [
    {
     "name": "stdout",
     "output_type": "stream",
     "text": [
      "Qual é o raio do círculo? 34\n"
     ]
    }
   ],
   "source": [
    "# Entrada de dados\n",
    "\n",
    "r = float(input(\"Qual é o raio do círculo? \"))"
   ]
  },
  {
   "cell_type": "code",
   "execution_count": 7,
   "id": "034e6db1",
   "metadata": {},
   "outputs": [],
   "source": [
    "# Atribuição de variáveis"
   ]
  },
  {
   "cell_type": "code",
   "execution_count": 8,
   "id": "51eceb1b",
   "metadata": {},
   "outputs": [],
   "source": [
    "# Processamento de dados\n",
    "\n",
    "area = 2*3.14*(r**2)\n",
    "comprimento = 2*3.14*r"
   ]
  },
  {
   "cell_type": "code",
   "execution_count": 9,
   "id": "2d770557",
   "metadata": {},
   "outputs": [
    {
     "name": "stdout",
     "output_type": "stream",
     "text": [
      "A área do círculo é 7259.68\n",
      "O comprimento do círculo é 213.52\n"
     ]
    }
   ],
   "source": [
    "# Saída de dados\n",
    "\n",
    "print(\"A área do círculo é\", area)\n",
    "print(\"O comprimento do círculo é\", comprimento)"
   ]
  },
  {
   "cell_type": "code",
   "execution_count": null,
   "id": "fd6a642b",
   "metadata": {},
   "outputs": [],
   "source": []
  }
 ],
 "metadata": {
  "kernelspec": {
   "display_name": "Python 3 (ipykernel)",
   "language": "python",
   "name": "python3"
  },
  "language_info": {
   "codemirror_mode": {
    "name": "ipython",
    "version": 3
   },
   "file_extension": ".py",
   "mimetype": "text/x-python",
   "name": "python",
   "nbconvert_exporter": "python",
   "pygments_lexer": "ipython3",
   "version": "3.10.9"
  }
 },
 "nbformat": 4,
 "nbformat_minor": 5
}
