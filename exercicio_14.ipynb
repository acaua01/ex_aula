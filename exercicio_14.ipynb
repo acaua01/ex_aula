{
 "cells": [
  {
   "cell_type": "markdown",
   "id": "df340a1e",
   "metadata": {},
   "source": [
    "# Exercício 14\n",
    "14. calcule a distˆancia entre dois pontos de coordenadas, respectivamente, (x1, x2) e (x1, x2).Tais coordenadas devem ser lidas do teclado. Use a f´ormula da distˆancia euclideana entre dois pontos.\n"
   ]
  },
  {
   "cell_type": "code",
   "execution_count": 2,
   "id": "e3193e5f",
   "metadata": {},
   "outputs": [],
   "source": [
    "# Atribuição de variáveis"
   ]
  },
  {
   "cell_type": "code",
   "execution_count": 3,
   "id": "a4c1fca3",
   "metadata": {},
   "outputs": [
    {
     "name": "stdout",
     "output_type": "stream",
     "text": [
      "Qual é a primeira coordenada do ponto 1? 10\n",
      "Qual é a segunda coordenada do ponto 1? 20\n",
      "Qual é a terceira coordenada do ponto 1? 20\n",
      "Qual é a quarta coordenada do ponto 1? 10\n"
     ]
    }
   ],
   "source": [
    "# Entrada de dados\n",
    "\n",
    "x1 = float(input(\"Qual é a primeira coordenada do ponto 1? \"))\n",
    "\n",
    "x2 = float(input(\"Qual é a segunda coordenada do ponto 1? \"))\n",
    "\n",
    "x3 = float(input(\"Qual é a terceira coordenada do ponto 1? \"))\n",
    "\n",
    "x4 = float(input(\"Qual é a quarta coordenada do ponto 1? \"))\n",
    "\n"
   ]
  },
  {
   "cell_type": "code",
   "execution_count": 4,
   "id": "11d47898",
   "metadata": {},
   "outputs": [],
   "source": [
    "# Processamento de dados\n",
    "\n",
    "d = ((x3-x1)**2+(x4-x2)**2)**(1/2)"
   ]
  },
  {
   "cell_type": "code",
   "execution_count": 6,
   "id": "1ff2b5c2",
   "metadata": {},
   "outputs": [
    {
     "name": "stdout",
     "output_type": "stream",
     "text": [
      "A distância entre os dois pontos é:  14.142135623730951\n"
     ]
    }
   ],
   "source": [
    "# Saída de dados\n",
    "\n",
    "print(\"A distância entre os dois pontos é: \", d)"
   ]
  },
  {
   "cell_type": "code",
   "execution_count": null,
   "id": "1d9944ce",
   "metadata": {},
   "outputs": [],
   "source": []
  }
 ],
 "metadata": {
  "kernelspec": {
   "display_name": "Python 3 (ipykernel)",
   "language": "python",
   "name": "python3"
  },
  "language_info": {
   "codemirror_mode": {
    "name": "ipython",
    "version": 3
   },
   "file_extension": ".py",
   "mimetype": "text/x-python",
   "name": "python",
   "nbconvert_exporter": "python",
   "pygments_lexer": "ipython3",
   "version": "3.10.9"
  }
 },
 "nbformat": 4,
 "nbformat_minor": 5
}
