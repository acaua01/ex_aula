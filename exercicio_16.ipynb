{
 "cells": [
  {
   "cell_type": "markdown",
   "id": "a95e235a",
   "metadata": {},
   "source": [
    "# Exercício 16\n",
    "16. calcule o retorno esperado de um ativo, dado que o usu´ario informa o retorno do ativo\n",
    "sem risco (Rf ), o retorno da carteira de mercado (Rm) e o coeficiente de sensibilidade do retorno do ativo a varia¸c˜oes no prˆemio de risco de mercado (βi). Considere que a f´ormula para calcular o retorno esperadode um ativo qualquer ´e dada por E(Ri) =Rf + βi.E [Rm − Rf ]"
   ]
  },
  {
   "cell_type": "code",
   "execution_count": 1,
   "id": "3917c610",
   "metadata": {},
   "outputs": [],
   "source": [
    "# Atribuição de variáveis"
   ]
  },
  {
   "cell_type": "code",
   "execution_count": 4,
   "id": "6c1672ab",
   "metadata": {},
   "outputs": [
    {
     "name": "stdout",
     "output_type": "stream",
     "text": [
      "Qual é o retorno do ativo sem risco? 10\n",
      "Qual é o retorno da carteira de mercado? 20\n",
      "Qual é o coeficiente de sensibilidade do retorno do ativo ?3\n"
     ]
    }
   ],
   "source": [
    "# Entrada de dados\n",
    "\n",
    "Rf = float(input(\"Qual é o retorno do ativo sem risco? \"))\n",
    "\n",
    "Rm = float(input(\"Qual é o retorno da carteira de mercado? \"))\n",
    "\n",
    "Bi = float(input(\"Qual é o coeficiente de sensibilidade do retorno do ativo ?\"))"
   ]
  },
  {
   "cell_type": "code",
   "execution_count": 7,
   "id": "684b6f84",
   "metadata": {},
   "outputs": [],
   "source": [
    "# Processamento de dados\n",
    "\n",
    "retorno_esperado = Rf + Bi*(Rm - Rf)"
   ]
  },
  {
   "cell_type": "code",
   "execution_count": 8,
   "id": "48c86d8f",
   "metadata": {},
   "outputs": [
    {
     "name": "stdout",
     "output_type": "stream",
     "text": [
      "O retorno esperado do ativo é:  40.0\n"
     ]
    }
   ],
   "source": [
    "# Saída de dados\n",
    "\n",
    "print(\"O retorno esperado do ativo é: \", retorno_esperado)"
   ]
  },
  {
   "cell_type": "code",
   "execution_count": null,
   "id": "9fac7af2",
   "metadata": {},
   "outputs": [],
   "source": []
  }
 ],
 "metadata": {
  "kernelspec": {
   "display_name": "Python 3 (ipykernel)",
   "language": "python",
   "name": "python3"
  },
  "language_info": {
   "codemirror_mode": {
    "name": "ipython",
    "version": 3
   },
   "file_extension": ".py",
   "mimetype": "text/x-python",
   "name": "python",
   "nbconvert_exporter": "python",
   "pygments_lexer": "ipython3",
   "version": "3.10.9"
  }
 },
 "nbformat": 4,
 "nbformat_minor": 5
}
