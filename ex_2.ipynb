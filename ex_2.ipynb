{
 "cells": [
  {
   "cell_type": "markdown",
   "id": "1d8ad978",
   "metadata": {},
   "source": [
    "# Exercício 2 - Parte 2\n",
    "2. leia um n´umero e imprima na tela a mensagem ”O n´umero ´e par.”se o n´umero lido for par e ”O n´umero ´e impar”se o n´umero lido for ´ımpar. Em caso de n´umero n˜ao inteiros ou negativos, imprima na tela ”Este n´umero n˜ao ´e v´alido.”"
   ]
  },
  {
   "cell_type": "code",
   "execution_count": 1,
   "id": "9f6de449",
   "metadata": {},
   "outputs": [],
   "source": [
    "# Atribuição de variáveis"
   ]
  },
  {
   "cell_type": "code",
   "execution_count": 20,
   "id": "937bd517",
   "metadata": {},
   "outputs": [
    {
     "name": "stdout",
     "output_type": "stream",
     "text": [
      "Qual é o número? 9.87\n"
     ]
    }
   ],
   "source": [
    "# Entrada de dados\n",
    "\n",
    "x = float(input(\"Qual é o número? \"))\n"
   ]
  },
  {
   "cell_type": "code",
   "execution_count": 21,
   "id": "ceab8914",
   "metadata": {},
   "outputs": [
    {
     "name": "stdout",
     "output_type": "stream",
     "text": [
      "O número não é válido\n"
     ]
    }
   ],
   "source": [
    "# Processamento e saída de dados\n",
    "\n",
    "if x < 0:\n",
    "    print (\"O número não é válido\")\n",
    "    \n",
    "elif x%1 != 0:\n",
    "    print (\"O número não é válido\")\n",
    "\n",
    "elif x%2 == 0:\n",
    "    print(\"O número é par\")\n",
    "\n",
    "else:\n",
    "    print (\"O número é ímpar\")\n",
    "\n"
   ]
  },
  {
   "cell_type": "code",
   "execution_count": null,
   "id": "8175a715",
   "metadata": {},
   "outputs": [],
   "source": []
  }
 ],
 "metadata": {
  "kernelspec": {
   "display_name": "Python 3 (ipykernel)",
   "language": "python",
   "name": "python3"
  },
  "language_info": {
   "codemirror_mode": {
    "name": "ipython",
    "version": 3
   },
   "file_extension": ".py",
   "mimetype": "text/x-python",
   "name": "python",
   "nbconvert_exporter": "python",
   "pygments_lexer": "ipython3",
   "version": "3.10.9"
  }
 },
 "nbformat": 4,
 "nbformat_minor": 5
}
