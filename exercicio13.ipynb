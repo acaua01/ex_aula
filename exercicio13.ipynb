{
 "cells": [
  {
   "cell_type": "markdown",
   "id": "6b37d8b5",
   "metadata": {},
   "source": [
    "# Exercício 13\n",
    "13. dados a renda do consumidor e o pre¸co de um bem, calcule a quantidade de demandada deste bem, sabendo que sua fun¸c˜ao de demanda ´e dada por q = renda/preco."
   ]
  },
  {
   "cell_type": "code",
   "execution_count": 1,
   "id": "acdf4699",
   "metadata": {},
   "outputs": [],
   "source": [
    "# Atribuição de variáveis"
   ]
  },
  {
   "cell_type": "code",
   "execution_count": 4,
   "id": "7c268579",
   "metadata": {},
   "outputs": [
    {
     "name": "stdout",
     "output_type": "stream",
     "text": [
      "Qual a sua renda ?25000\n",
      "Qual o preço do bem ?55\n"
     ]
    }
   ],
   "source": [
    "# Entrada de dados\n",
    "\n",
    "renda = float(input(\"Qual a sua renda ?\"))\n",
    "preco = float(input(\"Qual o preço do bem ?\"))\n"
   ]
  },
  {
   "cell_type": "code",
   "execution_count": 5,
   "id": "da21f727",
   "metadata": {},
   "outputs": [],
   "source": [
    "# Processamento de dados\n",
    "\n",
    "q = renda/preco"
   ]
  },
  {
   "cell_type": "code",
   "execution_count": 6,
   "id": "0f72d5d8",
   "metadata": {},
   "outputs": [
    {
     "name": "stdout",
     "output_type": "stream",
     "text": [
      "A quantidade demanda do bem é 454.54545454545456\n"
     ]
    }
   ],
   "source": [
    "# Saída de dados\n",
    "\n",
    "print(\"A quantidade demanda do bem é\", q)"
   ]
  },
  {
   "cell_type": "code",
   "execution_count": null,
   "id": "27f54941",
   "metadata": {},
   "outputs": [],
   "source": []
  }
 ],
 "metadata": {
  "kernelspec": {
   "display_name": "Python 3 (ipykernel)",
   "language": "python",
   "name": "python3"
  },
  "language_info": {
   "codemirror_mode": {
    "name": "ipython",
    "version": 3
   },
   "file_extension": ".py",
   "mimetype": "text/x-python",
   "name": "python",
   "nbconvert_exporter": "python",
   "pygments_lexer": "ipython3",
   "version": "3.10.9"
  }
 },
 "nbformat": 4,
 "nbformat_minor": 5
}
