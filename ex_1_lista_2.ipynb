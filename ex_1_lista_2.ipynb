{
 "cells": [
  {
   "cell_type": "markdown",
   "id": "0fa9d11a",
   "metadata": {},
   "source": [
    "# Exercício 1 - Parte 2\n",
    "1. leia um n´umero e imprima na tela o seu dobro se ele for menor do que 10. Se o n´umero for de 10 at´e 20, imprima a sua metade. Em qualquer outro caso, imprima na tela que o número n˜ao ´e v´alido"
   ]
  },
  {
   "cell_type": "code",
   "execution_count": 1,
   "id": "50575d55",
   "metadata": {},
   "outputs": [],
   "source": [
    "# Atribuição de variáveis"
   ]
  },
  {
   "cell_type": "code",
   "execution_count": 8,
   "id": "b70925ed",
   "metadata": {},
   "outputs": [
    {
     "name": "stdout",
     "output_type": "stream",
     "text": [
      "Qual é o número? 13\n"
     ]
    }
   ],
   "source": [
    "# Entrada de dados\n",
    "\n",
    "x = float(input(\"Qual é o número? \"))"
   ]
  },
  {
   "cell_type": "code",
   "execution_count": 9,
   "id": "8412af4f",
   "metadata": {},
   "outputs": [
    {
     "name": "stdout",
     "output_type": "stream",
     "text": [
      "6.5\n"
     ]
    }
   ],
   "source": [
    "# Processamento e saída de dados\n",
    "\n",
    "if x < 10: \n",
    "    print(x*2)\n",
    "    \n",
    "elif 10 < x < 20:\n",
    "    print (x/2)\n",
    "    \n",
    "else:\n",
    "    print(\"o número é inválido\")"
   ]
  },
  {
   "cell_type": "code",
   "execution_count": null,
   "id": "03075120",
   "metadata": {},
   "outputs": [],
   "source": []
  }
 ],
 "metadata": {
  "kernelspec": {
   "display_name": "Python 3 (ipykernel)",
   "language": "python",
   "name": "python3"
  },
  "language_info": {
   "codemirror_mode": {
    "name": "ipython",
    "version": 3
   },
   "file_extension": ".py",
   "mimetype": "text/x-python",
   "name": "python",
   "nbconvert_exporter": "python",
   "pygments_lexer": "ipython3",
   "version": "3.10.9"
  }
 },
 "nbformat": 4,
 "nbformat_minor": 5
}
